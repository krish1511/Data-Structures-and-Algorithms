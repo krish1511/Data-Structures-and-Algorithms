{
 "cells": [
  {
   "cell_type": "markdown",
   "metadata": {},
   "source": [
    "## Circular Queue"
   ]
  },
  {
   "cell_type": "code",
   "execution_count": 10,
   "metadata": {},
   "outputs": [
    {
     "name": "stdout",
     "output_type": "stream",
     "text": [
      "elements in the circular queue are 10 20 30 40 \n",
      "delete queue : 10\n",
      "delete queue : 20\n",
      "elements in the circular queue are 30 40 \n",
      "elements in the circular queue are 30 40 50 60 \n"
     ]
    }
   ],
   "source": [
    "class CircularQueue:\n",
    "    def __init__(self, size):\n",
    "        self.size = size\n",
    "        self.queue = [None for i in range(size)]\n",
    "        self.rear = self.front = -1\n",
    "    def enqueue(self, data):\n",
    "        if (self.rear + 1) % self.size == self.front:\n",
    "            print('queue is full')\n",
    "            return\n",
    "        elif self.rear == -1 and self.front == -1:\n",
    "            self.rear = 0\n",
    "            self.front = 0\n",
    "            self.queue[self.rear] = data\n",
    "        else:\n",
    "            self.rear = (self.rear + 1) % self.size\n",
    "            self.queue[self.rear] = data\n",
    "    def dequeue(self):\n",
    "        if self.rear == -1 and self.front == -1:\n",
    "            print('queue is empty')\n",
    "            return\n",
    "        elif self.rear == self.front:\n",
    "            temp = self.queue[self.front]\n",
    "            self.rear = -1\n",
    "            self.front = -1\n",
    "            return temp\n",
    "        else:\n",
    "            temp = self.queue[self.front]\n",
    "            self.front = (self.front + 1) % self.size\n",
    "            return temp\n",
    "    def display(self):\n",
    "        if (self.rear + 1) % self.size == self.front :\n",
    "            print('queue is full')\n",
    "            return\n",
    "        if self.rear == -1 and self.front == -1:\n",
    "            print('queue is empty')\n",
    "            return\n",
    "        elif self.rear >= self.front:\n",
    "            for i in range(self.front , self.rear + 1 ):\n",
    "                print(self.queue[i], end=' ')\n",
    "            print()\n",
    "        else:\n",
    "            for i in range(self.front, self.size):\n",
    "                print(self.queue[i], end=' ')\n",
    "            for i in range(0 , self.rear + 1):\n",
    "                print(self.queue[i], end = ' ')\n",
    "            print()\n",
    "cq = circularQueue(6)\n",
    "cq.enqueue(10)\n",
    "cq.enqueue(20)\n",
    "cq.enqueue(30)\n",
    "cq.enqueue(40)\n",
    "cq.display()\n",
    "print('delete queue :', cq.dequeue())\n",
    "print('delete queue :', cq.dequeue())\n",
    "cq.display()\n",
    "cq.enqueue(50)\n",
    "cq.enqueue(60)\n",
    "cq.display()\n",
    "                "
   ]
  },
  {
   "cell_type": "markdown",
   "metadata": {},
   "source": [
    "## Binary Search Tree"
   ]
  },
  {
   "cell_type": "code",
   "execution_count": null,
   "metadata": {},
   "outputs": [],
   "source": [
    "class Node:\n",
    "    def __init__(self, data):\n",
    "        self.data = data\n",
    "        self.left = None\n",
    "        self.right = None\n",
    "class BST:\n",
    "    def __init__(self, root = None):\n",
    "        self.root = root\n",
    "        \n",
    "    def get_root(self):\n",
    "        return self.root\n",
    "    \n",
    "    def insert(self, data):\n",
    "        if self.root is None:\n",
    "            self.root = Node(data)\n",
    "        else:\n",
    "            self._insert(self.root)\n",
    "            \n",
    "    def _insert(self, cur_node, data):\n",
    "        if data < cur_node.data:\n",
    "            if cur_node.left is None:\n",
    "                cur_node.left = Node(data)\n",
    "            else:\n",
    "                self._insert(cur_node.left, data)\n",
    "        else:\n",
    "            if cur_node.right is None:\n",
    "                cur_node.right = Node(data)\n",
    "            else:\n",
    "                self._insert(cur_node.right, data)\n",
    "                \n",
    "    def inOrderSuccessor(self, cur_node):\n",
    "        myVal = cur_node\n",
    "        while myVal.left is not None:\n",
    "            myVal = myVal.left\n",
    "        return myVal\n",
    "    \n",
    "    def delete(self, cur_node, data):\n",
    "        if data < cur_node.data:\n",
    "            cur_node.left = self.delete(cur_node.left, data)\n",
    "        elif data > cur_node.data:\n",
    "            cur_node.right = self.delete(cur_node.right, data)\n",
    "        else:\n",
    "            if cur_node.left is None:\n",
    "                temp = cur_node.right\n",
    "                cur_node = None\n",
    "                return temp\n",
    "            elif cur_node.right is None:\n",
    "                temp = cur_node.left\n",
    "                cur_node = None\n",
    "                return temp\n",
    "            \n",
    "            temp = self.inOrderSuccessor(cur_node.right)\n",
    "            cur_node.data = temp.data\n",
    "            cur_node.right = self.delete(cur_node.right, temp.data)\n",
    "        return cur_node\n",
    "    def inOrder(self, cur_node):\n",
    "        if cur_node:\n",
    "            self.inOrder(cur_node.left)\n",
    "            print(cur_node.data,end=' ')\n",
    "            self.inOrder(cur_node.right)\n",
    "    def preOrder(self, cur_node):\n",
    "        if cur_node:\n",
    "            print(cur_node.data,end=' ')\n",
    "            self.preOrder(cur_node.left)\n",
    "            self.preOrder(cur_node.right)\n",
    "    def postOrder(self, cur_node):\n",
    "        if cur_node:\n",
    "            self.postOrder(cur_node.left)\n",
    "            self.postOrder(cur_node.right)\n",
    "            print(cur_node.data, end=' ')\n",
    "    def printTree(self):\n",
    "        if self.root is not None:\n",
    "            return self._printTree(self.root)\n",
    "    def _printTree(self, cur_node):\n",
    "        if cur_node:\n",
    "            self._printTree(self, cur_node.left)\n",
    "            print(cur_node.data, end=' ')\n",
    "            self.printTree(self, cur_node.right)"
   ]
  },
  {
   "cell_type": "markdown",
   "metadata": {},
   "source": [
    "## AVL TREE"
   ]
  },
  {
   "cell_type": "code",
   "execution_count": 52,
   "metadata": {},
   "outputs": [
    {
     "name": "stdout",
     "output_type": "stream",
     "text": [
      "9 1 0 -1 5 2 6 10 11 \n",
      "1 0 -1 9 5 2 6 11 "
     ]
    }
   ],
   "source": [
    "class Node:\n",
    "    def __init__(self, data):\n",
    "        self.data = data\n",
    "        self.left = None\n",
    "        self.right = None\n",
    "        self.height = 1\n",
    "class AVL:\n",
    "    def getHeight(self, root):\n",
    "        if not root:\n",
    "            return 0\n",
    "        return root.height\n",
    "    def getBalance(self, root):\n",
    "        if not root:\n",
    "            return 0\n",
    "        return self.getHeight(root.left) - self.getHeight(root.right)\n",
    "    def leftRotate(self, z):\n",
    "        y = z.right\n",
    "        T2= y.left\n",
    "        # right rotate\n",
    "        y.left = z\n",
    "        z.right = T2\n",
    "        \n",
    "        z.height = 1 + max(self.getHeight(z.left) , self.getHeight(z.right))\n",
    "        y.height = 1 + max(self.getHeight(y.left) , self.getHeight(y.right))\n",
    "        return y\n",
    "    def rightRotate(self, z):\n",
    "        y = z.left\n",
    "        T3 = y.right \n",
    "        # right rotate\n",
    "        y.right = z\n",
    "        z.left = T3\n",
    "        \n",
    "        z.height = 1 + max(self.getHeight(z.left) , self.getHeight(z.right))\n",
    "        y.height = 1 + max(self.getHeight(y.left) , self.getHeight(y.right))\n",
    "        return y\n",
    "    def insert(self,root, data):\n",
    "        if not root:\n",
    "            return Node(data)\n",
    "        elif data < root.data:\n",
    "            root.left = self.insert(root.left, data)\n",
    "        else:\n",
    "            root.right = self.insert(root.right, data)\n",
    "        # updating height\n",
    "        root.height = 1 + max(self.getHeight(root.left) , self.getHeight(root.right))\n",
    "        # balancing nodes\n",
    "        balance = self.getBalance(root)\n",
    "        # unbalancing nodes\n",
    "        if balance > 1 and data < root.left.data:\n",
    "            return self.rightRotate(root)\n",
    "        if balance < -1 and data > root.right.data:\n",
    "            return self.leftRotate(root)\n",
    "        if balance > 1 and data > root.left.data:\n",
    "            root.left = self.leftRotate(root.left)\n",
    "            return self.rightRotate(root)\n",
    "        if balance < -1 and data < root.right.data:\n",
    "            root.right = self.rightRotate(root.right)\n",
    "            return self.leftRotate(root)\n",
    "        return root\n",
    "    def delete(self, root, data):\n",
    "        if not root:\n",
    "            return root\n",
    "        elif data < root.data:\n",
    "            root.left = self.delete(root.left, data)\n",
    "        elif data > root.data:\n",
    "            root.right = self.delete(root.right , data)\n",
    "        else:\n",
    "            if root.left is None:\n",
    "                temp = root.right\n",
    "                root = None\n",
    "                return temp\n",
    "            elif root.right is None:\n",
    "                temp = root.left\n",
    "                root = None\n",
    "                return temp\n",
    "            temp = self.inOrderSuccessor(root.right)\n",
    "            root.data = temp.data\n",
    "            root.right = self.delete(root.right, temp.data)\n",
    "        if root is None:\n",
    "            return root\n",
    "        # updating height\n",
    "        root.height = 1 + max(self.getHeight(root.left) , self.getHeight(root.right))\n",
    "        # balancing nodes\n",
    "        balance = self.getBalance(root)\n",
    "        # unbalancing nodes\n",
    "        if balance > 1 and self.getBalance(root.left) >=0:\n",
    "            return self.rightRotate(root)\n",
    "        if balance < -1 and self.getBalance(root.right) <= 0:\n",
    "            return self.leftRotate(root)\n",
    "        if balance > 1 and self.getBalance(root.left) < 0:\n",
    "            root.left = self.leftRotate(root.left)\n",
    "            return self.rightRotate(root)\n",
    "        if balance < -1 and self.getBalance(root.right) > 0:\n",
    "            root.right = self.rightRotate(root.right)\n",
    "            return self.leftRotate(root)\n",
    "        return root\n",
    "    \n",
    "    def inOrderSuccessor(self, root):\n",
    "        myVal = root\n",
    "        while myVal is not None:\n",
    "            myVal = myVal.left\n",
    "        return myVal\n",
    "        \n",
    "    def preOrder(self, root):\n",
    "        if not root:\n",
    "            return\n",
    "        print(root.data,end=' ')\n",
    "        self.preOrder(root.left)\n",
    "        self.preOrder(root.right)\n",
    "avl = AVL()\n",
    "root = None\n",
    "nums = [9, 5, 10, 0, 6, 11, -1, 1, 2] \n",
    "for num in nums:\n",
    "    root = avl.insert(root, num)\n",
    "\n",
    "avl.preOrder(root)\n",
    "print()\n",
    "data = 10\n",
    "root = avl.delete(root, data)\n",
    "\n",
    "avl.preOrder(root)"
   ]
  },
  {
   "cell_type": "markdown",
   "metadata": {},
   "source": [
    "## SinglyLinkedList with BrainTeasers"
   ]
  },
  {
   "cell_type": "code",
   "execution_count": 140,
   "metadata": {},
   "outputs": [
    {
     "name": "stdout",
     "output_type": "stream",
     "text": [
      "first list\n",
      "1\n",
      "3\n",
      "4\n",
      "second list\n",
      "2\n",
      "7\n",
      "9\n",
      "merge list\n",
      "1\n",
      "2\n",
      "3\n",
      "4\n",
      "7\n",
      "9\n"
     ]
    }
   ],
   "source": [
    "class Node:\n",
    "    def __init__(self, data):\n",
    "        self.data = data\n",
    "        self.next = None\n",
    "        self.isVisited = False\n",
    "class singlyLinkedList:\n",
    "    def __init__(self):\n",
    "        self.head = None\n",
    "    def listLength(self):\n",
    "        length = 0\n",
    "        currentNode = self.head\n",
    "        while currentNode is not None:\n",
    "            length += 1\n",
    "            currentNode = currentNode.next\n",
    "            \n",
    "        return length\n",
    "    def insertHead(self, newNode):\n",
    "        temporaryNode = self.head\n",
    "        self.head = newNode\n",
    "        newNode.next = temporaryNode\n",
    "        del temporaryNode\n",
    "    def insertAt(self, newNode, position):\n",
    "        if position is 0:\n",
    "            self.insertHead(newNode)\n",
    "            return\n",
    "        if position < 0 or position > self.listLength():\n",
    "            print('position is invalid')\n",
    "            return\n",
    "        currentNode = self.head\n",
    "        currentPos = 0\n",
    "        while True:\n",
    "            if currentPos == position:\n",
    "                previousNode.next = newNode\n",
    "                newNode.next = currentNode\n",
    "                break\n",
    "            previousNode = currentNode\n",
    "            currentNode = currentNode.next\n",
    "            currentPos += 1\n",
    "    def insertEnd(self, newNode):\n",
    "        if self.head is None:\n",
    "            self.head = newNode\n",
    "            return\n",
    "        lastNode = self.head\n",
    "        while lastNode.next is not None:\n",
    "            lastNode = lastNode.next\n",
    "        lastNode.next = newNode\n",
    "    def deleteHead(self):\n",
    "        temporaryNode = self.head\n",
    "        self.head = self.head.next\n",
    "        temporaryNode.next = self.head\n",
    "        del temporaryNode\n",
    "    def deleteAt(self, position):\n",
    "        if position is 0:\n",
    "            self.deleteHead()\n",
    "            return\n",
    "        if position < 0 or position > self.listLength()-1:\n",
    "            print('position is invalid')\n",
    "            return\n",
    "        currentNode = self.head\n",
    "        currentPos = 0\n",
    "        while True:\n",
    "            if currentPos == position:\n",
    "                previousNode.next = currentNode.next\n",
    "                currentNode.next = None\n",
    "                break\n",
    "            previousNode = currentNode\n",
    "            currentNode = currentNode.next\n",
    "            currentPos += 1\n",
    "    def deleteEnd(self):\n",
    "        lastNode = self.head\n",
    "        while True:\n",
    "            if lastNode.next is None:\n",
    "                previousNode.next = None\n",
    "                break\n",
    "            previousNode = lastNode\n",
    "            lastNode = lastNode.next\n",
    "            \n",
    "    def countNodes(self):\n",
    "        currentNode = self.head\n",
    "        odd = 0\n",
    "        even = 0\n",
    "        while currentNode is not None:\n",
    "            if currentNode.data % 2 is not 0:\n",
    "                odd += 1\n",
    "            else:\n",
    "                even += 1\n",
    "            currentNode = currentNode.next\n",
    "        print('even',even)\n",
    "        print('odd',odd)\n",
    "    def printMiddle(self):\n",
    "        currentNode = self.head\n",
    "        currentPos = 0\n",
    "        mid = self.listLength() // 2\n",
    "        while currentNode is not None:\n",
    "            if currentPos == mid:\n",
    "                print('middle node', currentNode.data)\n",
    "                break\n",
    "            currentNode = currentNode.next\n",
    "            currentPos += 1\n",
    "    def printList(self):\n",
    "        if self.head is None:\n",
    "            print('list is empty')\n",
    "            return\n",
    "        currentNode = self.head\n",
    "        while True:\n",
    "            print(currentNode.data)\n",
    "            currentNode = currentNode.next\n",
    "            if currentNode is None:\n",
    "                break\n",
    "    \n",
    "def detectCycle(linkedList):\n",
    "    currentNode = linkedList.head\n",
    "    currentNode.isVisited = True\n",
    "    while True:\n",
    "        if currentNode.next.isVisited is True:\n",
    "            currentNode.next = None\n",
    "            break\n",
    "        currentNode = currentNode.next\n",
    "        currentNode.isVisited = True\n",
    "def swapNodes(linkedList , firstNode , secondNode):\n",
    "    currentNode = linkedList.head\n",
    "    previousFirst = None\n",
    "    previousSecond = None\n",
    "    while True:\n",
    "        if currentNode.data == firstNode:\n",
    "            first = currentNode\n",
    "            break\n",
    "        previousFirst = currentNode\n",
    "        currentNode = currentNode.next\n",
    "    currentNode = linkedList.head\n",
    "    while True:\n",
    "        if currentNode.data == secondNode:\n",
    "            second = currentNode\n",
    "            break\n",
    "        previousSecond = currentNode\n",
    "        currentNode = currentNode.next\n",
    "    #4,3,5,2,7,1\n",
    "    previousFirst.next = second\n",
    "    secondNext = second.next\n",
    "    second.next = first.next\n",
    "    previousSecond.next = first\n",
    "    first.next = secondNext\n",
    "    \n",
    "def swap(linkedList,previousNode, largestNode, largestNodeNext):\n",
    "    largestNode.next = largestNodeNext.next\n",
    "    largestNodeNext.next = largestNode\n",
    "    if linkedList.head is largestNode:\n",
    "        linkedList.head = largestNodeNext\n",
    "        return\n",
    "    previousNode.next = largestNodeNext\n",
    "    \n",
    "def sort(linkedList):\n",
    "    length = linkedList.listLength()\n",
    "    for i in range(length-1,0,-1):\n",
    "        largestNode = linkedList.head\n",
    "        previousNode = None\n",
    "        for j in range(i):\n",
    "            if largestNode.data > largestNode.next.data:\n",
    "                swap(linkedList,previousNode, largestNode, largestNode.next)\n",
    "            else:\n",
    "                previousNode = largestNode\n",
    "                largestNode = largestNode.next\n",
    "def removeDuplicates(linkedList):\n",
    "    currentNode = linkedList.head\n",
    "    while True:\n",
    "        if currentNode.data == currentNode.next.data:\n",
    "            previousNode.next = currentNode.next\n",
    "            break\n",
    "        previousNode = currentNode\n",
    "        currentNode = currentNode.next\n",
    "def mergedList(firstList, secondList, mergeList):\n",
    "    currentFirst = firstList.head\n",
    "    currentSecond = secondList.head\n",
    "    while True:\n",
    "        if currentFirst is None:\n",
    "            mergeList.insertEnd(currentSecond)\n",
    "            return\n",
    "        if currentSecond is None:\n",
    "            mergeList.insertEnd(currentFirst)\n",
    "            return\n",
    "        if currentFirst.data < currentSecond.data:\n",
    "            currentFirstNext = currentFirst.next\n",
    "            currentFirst.next = None\n",
    "            mergeList.insertEnd(currentFirst)\n",
    "            currentFirst = currentFirstNext\n",
    "        else:\n",
    "            currentSecondNext = currentSecond.next\n",
    "            currentSecond.next = None\n",
    "            mergeList.insertEnd(currentSecond)\n",
    "            currentSecond = currentSecondNext\n",
    "            \n",
    "'''\n",
    "linkedList = singlyLinkedList()\n",
    "node1 = Node(1)\n",
    "node2 = Node(20)\n",
    "node3 = Node(3)\n",
    "node4 = Node(3)\n",
    "node5 = Node(5)\n",
    "linkedList.insertEnd(node1)\n",
    "linkedList.insertEnd(node2)\n",
    "linkedList.insertEnd(node3)\n",
    "linkedList.insertEnd(node4)\n",
    "linkedList.insertEnd(node5)\n",
    "#node3.next = node2\n",
    "#detectCycle(linkedList)\n",
    "#swapNodes(linkedList,3,7)\n",
    "#sort(linkedList)\n",
    "#removeDuplicates(linkedList)\n",
    "#linkedList.countNodes()\n",
    "linkedList.printMiddle()\n",
    "linkedList.printList()\n",
    "'''\n",
    "firstList = singlyLinkedList()\n",
    "node1 = Node(1)\n",
    "node2 = Node(3)\n",
    "node3 = Node(4)\n",
    "firstList.insertEnd(node1)\n",
    "firstList.insertEnd(node2)\n",
    "firstList.insertEnd(node3)\n",
    "secondList = singlyLinkedList()\n",
    "node4 = Node(2)\n",
    "node5 = Node(7)\n",
    "node6 = Node(9)\n",
    "secondList.insertEnd(node4)\n",
    "secondList.insertEnd(node5)\n",
    "secondList.insertEnd(node6)\n",
    "\n",
    "print('first list')\n",
    "firstList.printList()\n",
    "print('second list')\n",
    "secondList.printList()\n",
    "\n",
    "mergeList = singlyLinkedList()\n",
    "mergedList(firstList , secondList , mergeList)\n",
    "\n",
    "del firstList\n",
    "del secondList\n",
    "print('merge list')\n",
    "mergeList.printList()"
   ]
  },
  {
   "cell_type": "markdown",
   "metadata": {},
   "source": [
    "## DoublyLinkedList with BrainTeasers"
   ]
  },
  {
   "cell_type": "code",
   "execution_count": 1,
   "metadata": {},
   "outputs": [
    {
     "name": "stdout",
     "output_type": "stream",
     "text": [
      "printing from starting\n",
      "10\n",
      "15\n",
      "20\n",
      "printing from ending\n",
      "20\n",
      "15\n",
      "10\n"
     ]
    }
   ],
   "source": [
    "class Node:\n",
    "    def __init__(self, data):\n",
    "        self.data = data\n",
    "        self.next = None\n",
    "        self.previous = None\n",
    "class DoublyLinkedList:\n",
    "    def __init__(self):\n",
    "        self.head = None\n",
    "    def listLength(self):\n",
    "        length = 0\n",
    "        currentNode = self.head\n",
    "        while currentNode is not None:\n",
    "            currentNode = currentNode.next\n",
    "            length += 1\n",
    "        return length\n",
    "    def insertHead(self, newNode):\n",
    "        temporaryNode = self.head\n",
    "        self.head = newNode\n",
    "        newNode.next = temporaryNode\n",
    "        temporaryNode.previous = newNode\n",
    "        del temporaryNode\n",
    "    def insertAt(self, newNode, position):\n",
    "        if position is 0:\n",
    "            self.insertHead(newNode)\n",
    "            return\n",
    "        if position is self.listLength():\n",
    "            self.insertEnd(newNode)\n",
    "            return\n",
    "        if position < 0 or position > self.listLength():\n",
    "            print('position is invalid')\n",
    "            return\n",
    "        currentNode = self.head\n",
    "        currentPos = 0\n",
    "        while True:\n",
    "            if currentPos == position:\n",
    "                previousNode.next = newNode\n",
    "                newNode.next = currentNode\n",
    "                currentNode.previous = newNode\n",
    "                break\n",
    "            previousNode = currentNode\n",
    "            currentNode = currentNode.next\n",
    "            currentPos += 1\n",
    "    def insertEnd(self , newNode ):\n",
    "        if self.head is None:\n",
    "            self.head = newNode\n",
    "            return\n",
    "        lastNode = self.head\n",
    "        while True:\n",
    "            if lastNode.next is None:\n",
    "                break\n",
    "            lastNode = lastNode.next\n",
    "        lastNode.next = newNode\n",
    "        newNode.previous = lastNode\n",
    "    def deleteHead(self):\n",
    "        temporaryNode = self.head\n",
    "        self.head = self.head.next\n",
    "        temporaryNode.next = self.head\n",
    "        self.head.previous = temporaryNode.previous\n",
    "        del temporaryNode\n",
    "    def deleteAt(self, position):\n",
    "        if position is 0:\n",
    "            self.deleteHead()\n",
    "            return\n",
    "        if position is self.listLength()-1:\n",
    "            self.deleteEnd()\n",
    "            return\n",
    "        if position < 0 or position > self.listLength()-1:\n",
    "            print('position is invalid')\n",
    "            return\n",
    "        currentNode = self.head\n",
    "        currentPos = 0\n",
    "        while True:\n",
    "            if currentPos == position:\n",
    "                currentNode.previous.next = currentNode.next\n",
    "                currentNode.next.previous = currentNode.previous\n",
    "                currentNode.next = None\n",
    "                currentNode.previous = None\n",
    "                break\n",
    "            currentNode = currentNode.next\n",
    "            currentPos += 1\n",
    "                \n",
    "    def deleteEnd(self):\n",
    "        lastNode = self.head\n",
    "        while lastNode.next is not None:\n",
    "            previousNode = lastNode\n",
    "            lastNode = lastNode.next\n",
    "        previousNode.next = None\n",
    "        \n",
    "    def deleteNode(self , data):\n",
    "        currentNode = self.head\n",
    "        while currentNode is not None:\n",
    "            if currentNode.data == data:\n",
    "                # head node deletion\n",
    "                if currentNode is self.head:\n",
    "                    self.head = self.head.next\n",
    "                    currentNode.next = None\n",
    "                    if self.head is not None:\n",
    "                        self.head.previous = None\n",
    "                    return\n",
    "                # lastNode deletion\n",
    "                if currentNode.next is None:\n",
    "                    currentNode.previous.next = None\n",
    "                    currentNode.next = None\n",
    "                    return\n",
    "                # middle Node deletion\n",
    "                currentNode.previous.next = currentNode.next\n",
    "                currentNode.next.previous = currentNode.previous\n",
    "                currentNode.previous = None\n",
    "                currentNode.next = None\n",
    "                return\n",
    "            currentNode = currentNode.next\n",
    "        print('not found')\n",
    "        \n",
    "    def swapHead(self):  #10,15,20\n",
    "        if self.head is None:\n",
    "            print('list is empty')\n",
    "            return\n",
    "        if self.head.next is None:\n",
    "            return\n",
    "        lastNode = self.head\n",
    "        while lastNode.next is not None:\n",
    "            lastNode = lastNode.next\n",
    "        self.head.next.previous = lastNode\n",
    "        lastNode.previous.next = self.head\n",
    "        lastNode.next = self.head.next\n",
    "        self.head.previous = lastNode.previous\n",
    "        self.head.next = None\n",
    "        lastNode.previous = None\n",
    "        self.head = lastNode\n",
    "                \n",
    "    def printList(self):\n",
    "        if self.head is None:\n",
    "            print('list is empty')\n",
    "            return\n",
    "        currentNode = self.head\n",
    "        print('printing from starting')\n",
    "        while True:\n",
    "            print(currentNode.data)\n",
    "            if currentNode.next is None:\n",
    "                traversalNode = currentNode\n",
    "            currentNode = currentNode.next\n",
    "            if currentNode is None:\n",
    "                break\n",
    "        print('printing from ending')\n",
    "        while True:\n",
    "            print(traversalNode.data)\n",
    "            traversalNode = traversalNode.previous\n",
    "            if traversalNode is None:\n",
    "                break\n",
    "def findMiddle(linkedList):\n",
    "    currentNode = linkedList.head\n",
    "    currentPos = 0\n",
    "    mid = linkedList.listLength() // 2\n",
    "    while True:\n",
    "        if currentPos == mid:\n",
    "            if currentNode.previous.data > currentNode.next.data:\n",
    "                print('greater')\n",
    "            else:\n",
    "                print('not greater')\n",
    "            break\n",
    "        currentNode = currentNode.next\n",
    "        currentPos += 1\n",
    "def findOdd(linkedList):\n",
    "    currentNode = linkedList.head.next\n",
    "    while currentNode is not None:\n",
    "        if currentNode.previous.data % 2 is not 0:\n",
    "            currentNode.data = currentNode.data // 2\n",
    "        currentNode = currentNode.next\n",
    "def reverse(linkedList):\n",
    "    currentNode = linkedList.head\n",
    "    while currentNode is not None:\n",
    "        currentNodeNext = currentNode.next\n",
    "        currentNode.next = currentNode.previous\n",
    "        currentNode.previous = currentNodeNext\n",
    "        if currentNode.previous is None:\n",
    "            linkedList.head = currentNode\n",
    "        currentNode = currentNodeNext\n",
    "def removeDuplicates(linkedList):\n",
    "    nodeCount = {}\n",
    "    currentNode = linkedList.head\n",
    "    while True:\n",
    "        if currentNode.data not in nodeCount.keys():\n",
    "            nodeCount[currentNode.data] = 1\n",
    "        else:\n",
    "            nodeCount[currentNode.data] += 1\n",
    "        \n",
    "        if currentNode.next is None:\n",
    "            while True:\n",
    "                if currentNode.previous is None:\n",
    "                    break\n",
    "                previousNode = currentNode.previous\n",
    "                if nodeCount[currentNode.data] > 1:\n",
    "                    currentNode.previous.next = currentNode.next\n",
    "                    if currentNode.next is not None:\n",
    "                        currentNode.next.previous = currentNode.previous\n",
    "                    currentNode.previous = None\n",
    "                    currentNode.next = None\n",
    "                    nodeCount[currentNode.data] -=1\n",
    "                currentNode = previousNode\n",
    "            break\n",
    "        currentNode = currentNode.next\n",
    "def palindrome(linkedList):\n",
    "    startPointer = linkedList.head\n",
    "    endPointer = linkedList.head\n",
    "    while endPointer.next is not None:\n",
    "        endPointer = endPointer.next\n",
    "    while True:\n",
    "        if startPointer == endPointer:\n",
    "            print('palindrome')\n",
    "            return\n",
    "        if startPointer.data == endPointer.data:\n",
    "            startPointer = startPointer.next\n",
    "            endPointer = endPointer.previous\n",
    "        else:\n",
    "            print('not palindrome')\n",
    "            return\n",
    "    \n",
    "linkedList = DoublyLinkedList()\n",
    "node1 = Node(10)\n",
    "node2 = Node(15)\n",
    "node3 = Node(20)\n",
    "linkedList.insertEnd(node1)\n",
    "linkedList.insertEnd(node2)\n",
    "linkedList.insertEnd(node3)\n",
    "#linkedList.deleteAt(2)\n",
    "#findMiddle(linkedList)\n",
    "#findOdd(linkedList)\n",
    "#reverse(linkedList)\n",
    "#removeDuplicates(linkedList)\n",
    "#palindrome(linkedList)\n",
    "#linkedList.deleteNode(15)\n",
    "#linkedList.swapHead()\n",
    "linkedList.printList()\n",
    "        "
   ]
  },
  {
   "cell_type": "markdown",
   "metadata": {},
   "source": [
    "## BubbleSort Using For Loop"
   ]
  },
  {
   "cell_type": "code",
   "execution_count": 216,
   "metadata": {},
   "outputs": [
    {
     "data": {
      "text/plain": [
       "[1, 3, 4, 6, 7, 9]"
      ]
     },
     "execution_count": 216,
     "metadata": {},
     "output_type": "execute_result"
    }
   ],
   "source": [
    "def bubbleSort(lst):\n",
    "    for i in range(len(lst)-1,0,-1):\n",
    "        for j in range(i):\n",
    "            if lst[j] > lst[j+1]:\n",
    "                lst[j] , lst[j+1] = lst[j+1] , lst[j]\n",
    "    return lst\n",
    "lst=[7,4,1,3,6,9]\n",
    "bubbleSort(lst)"
   ]
  },
  {
   "cell_type": "markdown",
   "metadata": {},
   "source": [
    "## BubbleSort Using While Loop"
   ]
  },
  {
   "cell_type": "code",
   "execution_count": 220,
   "metadata": {},
   "outputs": [
    {
     "data": {
      "text/plain": [
       "[1, 3, 4, 5, 5, 7, 9]"
      ]
     },
     "execution_count": 220,
     "metadata": {},
     "output_type": "execute_result"
    }
   ],
   "source": [
    "def bubbleSort(lst):\n",
    "    i = 0\n",
    "    while i < len(lst) - 1:\n",
    "        for j in range(len(lst) - 1):\n",
    "            if lst[j] > lst[j+1] :\n",
    "                lst[j] , lst[j+1] = lst[j+1] , lst[j]\n",
    "        i+=1\n",
    "    return lst\n",
    "lst = [9,5,1,4,7,5,3]\n",
    "bubbleSort(lst)"
   ]
  },
  {
   "cell_type": "markdown",
   "metadata": {},
   "source": [
    "## Selection Sort"
   ]
  },
  {
   "cell_type": "code",
   "execution_count": 221,
   "metadata": {},
   "outputs": [
    {
     "data": {
      "text/plain": [
       "[2, 3, 4, 5, 7, 8]"
      ]
     },
     "execution_count": 221,
     "metadata": {},
     "output_type": "execute_result"
    }
   ],
   "source": [
    "def selectionSort(lst):\n",
    "    for i in range(len(lst)):\n",
    "        minPos = i\n",
    "        for j in range(i, len(lst)):\n",
    "            if lst[j] < lst[minPos]:\n",
    "                minPos = j\n",
    "        lst[i] , lst[minPos] = lst[minPos] , lst[i]\n",
    "    return lst\n",
    "lst = [7,4,2,5,8,3]\n",
    "selectionSort(lst)"
   ]
  },
  {
   "cell_type": "markdown",
   "metadata": {},
   "source": [
    "## InsertionSort"
   ]
  },
  {
   "cell_type": "code",
   "execution_count": 223,
   "metadata": {},
   "outputs": [
    {
     "data": {
      "text/plain": [
       "[1, 3, 4, 6, 7, 9]"
      ]
     },
     "execution_count": 223,
     "metadata": {},
     "output_type": "execute_result"
    }
   ],
   "source": [
    "def insertionSort(lst):\n",
    "    for i in range(1,len(lst)):\n",
    "        cur_ele = lst[i]\n",
    "        pos = i\n",
    "        while cur_ele < lst[pos-1] and pos > 0:\n",
    "            lst[pos] = lst[pos - 1]\n",
    "            pos -= 1\n",
    "        lst[pos] = cur_ele\n",
    "        \n",
    "    return lst\n",
    "lst = [7,1,3,9,6,4]\n",
    "insertionSort(lst)"
   ]
  },
  {
   "cell_type": "markdown",
   "metadata": {},
   "source": [
    "## MergeSort"
   ]
  },
  {
   "cell_type": "code",
   "execution_count": 241,
   "metadata": {},
   "outputs": [
    {
     "data": {
      "text/plain": [
       "[1, 2, 3, 4, 5, 5, 6, 7, 9]"
      ]
     },
     "execution_count": 241,
     "metadata": {},
     "output_type": "execute_result"
    }
   ],
   "source": [
    "def mergeSort(lst):\n",
    "    if len(lst) > 1:\n",
    "        mid = len(lst) // 2\n",
    "        left = lst[:mid]\n",
    "        right = lst[mid:]\n",
    "        mergeSort(left)\n",
    "        mergeSort(right)\n",
    "        \n",
    "        i = j = k = 0\n",
    "        while i < len(left) and j < len(right):\n",
    "            if left[i] < right[j]:\n",
    "                lst[k] = left[i]\n",
    "                i += 1\n",
    "                k += 1\n",
    "            else:\n",
    "                lst[k] = right[j]\n",
    "                j += 1\n",
    "                k += 1\n",
    "        while i < len(left):\n",
    "            lst[k] = left[i]\n",
    "            i += 1\n",
    "            k += 1\n",
    "        while j < len(right):\n",
    "            lst[k] = right[j]\n",
    "            j += 1\n",
    "            k += 1\n",
    "    return lst\n",
    "lst = [9,1,5,5,3,7,4,6,2]\n",
    "mergeSort(lst)"
   ]
  },
  {
   "cell_type": "markdown",
   "metadata": {},
   "source": [
    "## Shell sort"
   ]
  },
  {
   "cell_type": "code",
   "execution_count": 281,
   "metadata": {},
   "outputs": [
    {
     "name": "stdout",
     "output_type": "stream",
     "text": [
      "list length4\n",
      "3\n",
      "6\n",
      "4\n",
      "1\n"
     ]
    },
    {
     "data": {
      "text/plain": [
       "[1, 3, 4, 6]"
      ]
     },
     "execution_count": 281,
     "metadata": {},
     "output_type": "execute_result"
    }
   ],
   "source": [
    "def shellSort(lst):\n",
    "    gap = len(lst) // 2\n",
    "    while gap > 0:\n",
    "        for i in range(gap, len(lst)):\n",
    "            cur_ele = lst[i]\n",
    "            pos = i\n",
    "            while pos >= gap and cur_ele < lst[pos - gap]:\n",
    "                lst[pos] = lst[pos - gap]\n",
    "                pos -= gap\n",
    "            lst[pos] = cur_ele\n",
    "        gap = gap // 2\n",
    "    return lst\n",
    "num = int(input('list length'))\n",
    "lst = [int(input()) for i in range(num)]\n",
    "shellSort(lst)"
   ]
  },
  {
   "cell_type": "markdown",
   "metadata": {},
   "source": [
    "## QuickSort"
   ]
  },
  {
   "cell_type": "code",
   "execution_count": 246,
   "metadata": {},
   "outputs": [
    {
     "data": {
      "text/plain": [
       "[1, 2, 3, 4, 6, 7, 8, 9]"
      ]
     },
     "execution_count": 246,
     "metadata": {},
     "output_type": "execute_result"
    }
   ],
   "source": [
    "def pivot_index(lst , first , last):\n",
    "    pivot = lst[first]\n",
    "    left = first + 1\n",
    "    right = last\n",
    "    while True:\n",
    "        while left <= right and lst[left] <= pivot:\n",
    "            left += 1\n",
    "        while left <= right and lst[right] >= pivot:\n",
    "            right -= 1\n",
    "        if left < right:\n",
    "            lst[left] , lst[right] = lst[right], lst[left]\n",
    "        else:\n",
    "            lst[first] , lst[right] = lst[right] , lst[first]\n",
    "            break\n",
    "    return right\n",
    "def quickSort(lst, first, last):\n",
    "    if first < last:\n",
    "        p = pivot_index(lst , first , last)\n",
    "        quickSort(lst, p + 1, last)\n",
    "        quickSort(lst, first, p - 1)\n",
    "    return lst\n",
    "lst = [7,3,1,9,6,4,8,2]\n",
    "quickSort(lst, 0 , len(lst)-1)"
   ]
  },
  {
   "cell_type": "code",
   "execution_count": 253,
   "metadata": {},
   "outputs": [
    {
     "data": {
      "text/plain": [
       "[1, 2, 4, 5, 7, 8, 9]"
      ]
     },
     "execution_count": 253,
     "metadata": {},
     "output_type": "execute_result"
    }
   ],
   "source": [
    "import random\n",
    "def pivot_index(lst, first, last):\n",
    "    rindex = random.randint(first, last)\n",
    "    lst[last] , lst[rindex] = lst[rindex], lst[last]\n",
    "    pivot = lst[last]\n",
    "    left = first\n",
    "    right = last - 1\n",
    "    while True:\n",
    "        while left <= right and lst[left] <= pivot:\n",
    "            left += 1\n",
    "        while left <= right and lst[right] >= pivot:\n",
    "            right -= 1\n",
    "        if left < right:\n",
    "            lst[left], lst[right] = lst[right] , lst[left]\n",
    "        else:\n",
    "            lst[last], lst[left] = lst[left] , lst[last]\n",
    "            break\n",
    "    return left\n",
    "def quickSort(lst, first, last):\n",
    "    if first < last:\n",
    "        p = pivot_index(lst, first, last)\n",
    "        quickSort(lst, p+1, last)\n",
    "        quickSort(lst, first, p-1)\n",
    "    return lst\n",
    "lst = [9,1,2,8,7,4,5]\n",
    "quickSort(lst,0, len(lst)-1)"
   ]
  },
  {
   "cell_type": "markdown",
   "metadata": {},
   "source": [
    "## CountingSort "
   ]
  },
  {
   "cell_type": "code",
   "execution_count": 256,
   "metadata": {},
   "outputs": [
    {
     "data": {
      "text/plain": [
       "[1, 3, 4, 6, 7, 8, 9]"
      ]
     },
     "execution_count": 256,
     "metadata": {},
     "output_type": "execute_result"
    }
   ],
   "source": [
    "def countingSort(lst ,high):\n",
    "    count = [0] *(high+1)\n",
    "    for i in lst:\n",
    "        count[i] +=1\n",
    "    start = 0\n",
    "    for i in range(len(count)):\n",
    "        for j in range(count[i]):\n",
    "            lst[start] = i\n",
    "            start += 1\n",
    "    return lst\n",
    "lst = [9,1,8,3,7,4,6]\n",
    "countingSort(lst , max(lst))"
   ]
  },
  {
   "cell_type": "markdown",
   "metadata": {},
   "source": [
    "## CircularSinglyLinkedList"
   ]
  },
  {
   "cell_type": "code",
   "execution_count": 268,
   "metadata": {},
   "outputs": [
    {
     "name": "stdout",
     "output_type": "stream",
     "text": [
      "sai\n",
      "sushma\n",
      "sai\n"
     ]
    }
   ],
   "source": [
    "class Node:\n",
    "    def __init__(self, data):\n",
    "        self.data = data\n",
    "        self.left = None\n",
    "class CircularSinglyLinkedList():\n",
    "    def __init__(self):\n",
    "        self.head = None\n",
    "    def insertHead(self, newNode):\n",
    "        lastNode = self.head\n",
    "        while lastNode.next is not self.head:\n",
    "            lastNode = lastNode.next\n",
    "        temporaryNode = self.head\n",
    "        self.head = newNode\n",
    "        newNode.next = temporaryNode\n",
    "        lastNode.next = self.head\n",
    "        del temporaryNode\n",
    "    def insertAt(self, newNode, position):\n",
    "        currentNode = self.head\n",
    "        currentPos = 0\n",
    "        while True:\n",
    "            if currentPos == position:\n",
    "                previousNode.next = newNode\n",
    "                newNode.next = currentNode\n",
    "                currentNode.next = self.head\n",
    "                break\n",
    "            previousNode = currentNode\n",
    "            currentNode = currentNode.next\n",
    "            currentPos += 1\n",
    "    def insertEnd(self, newNode):\n",
    "        if self.head is None:\n",
    "            self.head = newNode\n",
    "            newNode.next = self.head\n",
    "            return\n",
    "        lastNode = self.head\n",
    "        while lastNode.next is not self.head:\n",
    "            lastNode = lastNode.next\n",
    "        lastNode.next = newNode\n",
    "        newNode.next = self.head\n",
    "    def deleteHead(self):\n",
    "        lastNode = self.head\n",
    "        while lastNode.next is not self.head:\n",
    "            lastNode = lastNode.next\n",
    "        temporaryNode = self.head\n",
    "        self.head = self.head.next\n",
    "        temporaryNode.next = self.head\n",
    "        lastNode.next = self.head\n",
    "        del temporaryNode\n",
    "    def deleteAt(self, position):\n",
    "        currentNode = self.head\n",
    "        currentPos = 0\n",
    "        while True:\n",
    "            if currentPos == position:\n",
    "                previousNode.next = currentNode.next\n",
    "                currentNode.next = self.head\n",
    "                break\n",
    "            previousNode = currentNode\n",
    "            currentNode = currentNode.next\n",
    "            currentPos += 1\n",
    "    def deleteEnd(self):\n",
    "        lastNode = self.head\n",
    "        while lastNode.next is not self.head:\n",
    "            previousNode = lastNode\n",
    "            lastNode = lastNode.next\n",
    "        previousNode.next = lastNode.next\n",
    "        lastNode.next = self.head\n",
    "    def printList(self):\n",
    "        if self.head is None:\n",
    "            print('list is empty')\n",
    "            return\n",
    "        currentNode = self.head\n",
    "        while True:\n",
    "            print(currentNode.data)\n",
    "            currentNode = currentNode.next\n",
    "            if currentNode is self.head:\n",
    "                break\n",
    "        print(currentNode.data)\n",
    "linkedList = CircularSinglyLinkedList()\n",
    "node1 = Node('sai')\n",
    "node2 = Node('krish')\n",
    "node3 = Node('sushma')\n",
    "linkedList.insertEnd(node1)\n",
    "linkedList.insertEnd(node2)\n",
    "linkedList.insertEnd(node3)\n",
    "linkedList.deleteAt(1)\n",
    "linkedList.printList()"
   ]
  },
  {
   "cell_type": "markdown",
   "metadata": {},
   "source": [
    "## CircularDoublyLinkedList "
   ]
  },
  {
   "cell_type": "code",
   "execution_count": 278,
   "metadata": {},
   "outputs": [
    {
     "name": "stdout",
     "output_type": "stream",
     "text": [
      "krish\n",
      "sushma\n",
      "\n",
      "sushma\n"
     ]
    }
   ],
   "source": [
    "class Node:\n",
    "    def __init__(self, data):\n",
    "        self.data = data\n",
    "        self.next = None\n",
    "        self.previous = None\n",
    "class CircularDoublyLinkedList:\n",
    "    def __init__(self):\n",
    "        self.head = None\n",
    "    def insertHead(self, newNode):\n",
    "        lastNode = self.head\n",
    "        while lastNode.next is not self.head:\n",
    "            lastNode = lastNode.next\n",
    "        temporaryNode = self.head\n",
    "        self.head = newNode\n",
    "        newNode.next = temporaryNode\n",
    "        lastNode.next = self.head\n",
    "        self.head.previous = lastNode\n",
    "        del temporaryNode\n",
    "    def insertEnd(self, newNode):\n",
    "        if self.head is None:\n",
    "            self.head = newNode\n",
    "            newNode.next = self.head\n",
    "            newNode.previous = self.head\n",
    "            return\n",
    "        lastNode = self.head\n",
    "        while lastNode.next is not self.head:\n",
    "            lastNode = lastNode.next\n",
    "        lastNode.next = newNode\n",
    "        newNode.next = self.head\n",
    "        self.head.previous = newNode\n",
    "        newNode.previous = lastNode\n",
    "    def deleteHead(self):\n",
    "        lastNode = self.head\n",
    "        while lastNode.next is not self.head:\n",
    "            lastNode = lastNode.next\n",
    "        temporaryNode = self.head\n",
    "        self.head = self.head.next\n",
    "        temporaryNode.next = self.head\n",
    "        lastNode.next = self.head\n",
    "        self.head.previous = lastNode\n",
    "    def deleteEnd(self):\n",
    "        lastNode = self.head\n",
    "        while lastNode.next is not self.head:\n",
    "            previousNode = lastNode\n",
    "            lastNode = lastNode.next\n",
    "        previousNode.next = lastNode.next\n",
    "        lastNode.next = self.head\n",
    "        self.head.previous = lastNode.previous\n",
    "    def printList(self):\n",
    "        if self.head is None:\n",
    "            print('list is empty')\n",
    "            return\n",
    "        currentNode = self.head\n",
    "        while True:\n",
    "            print(currentNode.data)\n",
    "            currentNode = currentNode.next\n",
    "            if currentNode is self.head:\n",
    "                break\n",
    "        print()\n",
    "        print(currentNode.previous.data)\n",
    "linkedList = CircularDoublyLinkedList()\n",
    "node1 = Node('sai')\n",
    "node2 = Node('krish')\n",
    "node3 = Node('sushma')\n",
    "linkedList.insertEnd(node1)\n",
    "linkedList.insertEnd(node2)\n",
    "linkedList.insertEnd(node3)\n",
    "linkedList.deleteHead()\n",
    "linkedList.printList()"
   ]
  },
  {
   "cell_type": "markdown",
   "metadata": {},
   "source": [
    "## linear Search using while loop"
   ]
  },
  {
   "cell_type": "code",
   "execution_count": 285,
   "metadata": {},
   "outputs": [
    {
     "name": "stdout",
     "output_type": "stream",
     "text": [
      "found at 3\n"
     ]
    }
   ],
   "source": [
    "pos = -1\n",
    "def linearSearch(lst, n):\n",
    "    i = 0\n",
    "    while i < len(lst):\n",
    "        if lst[i] == n:\n",
    "            globals()['pos'] = i\n",
    "            return True\n",
    "        i += 1\n",
    "    return False\n",
    "lst = [9,6,3,1,4,7]\n",
    "n = 1\n",
    "if linearSearch(lst,n):\n",
    "    print('found at',pos)\n",
    "else:\n",
    "    print('not found')"
   ]
  },
  {
   "cell_type": "markdown",
   "metadata": {},
   "source": [
    "## Linear Search using for loop"
   ]
  },
  {
   "cell_type": "code",
   "execution_count": 289,
   "metadata": {},
   "outputs": [
    {
     "name": "stdout",
     "output_type": "stream",
     "text": [
      "found at 3\n"
     ]
    }
   ],
   "source": [
    "pos = 0\n",
    "def linearSearch(lst, n):\n",
    "    for i in range(len(lst)):\n",
    "        if lst[i] == n:\n",
    "            globals()['pos'] = i\n",
    "            return True\n",
    "    return False\n",
    "lst = [7,5,3,1,5,9]\n",
    "n = 1\n",
    "\n",
    "if linearSearch(lst, n):\n",
    "    print('found at',pos)\n",
    "else:\n",
    "    print('not found')"
   ]
  },
  {
   "cell_type": "markdown",
   "metadata": {},
   "source": [
    "## BinarySearch using while loop "
   ]
  },
  {
   "cell_type": "code",
   "execution_count": 324,
   "metadata": {},
   "outputs": [
    {
     "name": "stdout",
     "output_type": "stream",
     "text": [
      "[3, 4, 6, 7, 9]\n",
      "found at 4\n"
     ]
    }
   ],
   "source": [
    "def binarySearch(lst , n):\n",
    "    l = 0\n",
    "    u = len(lst) -1\n",
    "    while l <= u:\n",
    "        mid = (l +u) //2 \n",
    "        if lst[mid] == n:\n",
    "            globals()['pos'] = mid\n",
    "            return True\n",
    "        else:\n",
    "            if lst[mid] < n:\n",
    "                l = mid + 1\n",
    "            else:\n",
    "                u = mid - 1\n",
    "    return False\n",
    "l= [9,6,3,4,7]\n",
    "lst = sorted(l)\n",
    "print(lst)\n",
    "n = 9\n",
    "if binarySearch(lst, n):\n",
    "    print('found at',pos)\n",
    "else:\n",
    "    print('not found')"
   ]
  },
  {
   "cell_type": "markdown",
   "metadata": {},
   "source": [
    "## BinarySearch using for loop"
   ]
  },
  {
   "cell_type": "code",
   "execution_count": 340,
   "metadata": {},
   "outputs": [
    {
     "name": "stdout",
     "output_type": "stream",
     "text": [
      "[1, 3, 4, 8, 9]\n",
      "found at 4\n"
     ]
    }
   ],
   "source": [
    "def binarySearch(lst, n):\n",
    "    l = 0\n",
    "    u = len(lst)\n",
    "    for i in range(u):\n",
    "        if l <= i:\n",
    "            mid = (l + u) // 2\n",
    "            if lst[mid] == n:\n",
    "                globals()['pos'] = mid\n",
    "                return True\n",
    "            else:\n",
    "                if lst[mid] < n:\n",
    "                    l = mid + 1\n",
    "                else:\n",
    "                    u = mid - 1\n",
    "    return False\n",
    "l = [9,3,1,4,8]\n",
    "lst = sorted(l)\n",
    "print(lst)\n",
    "n = 9\n",
    "\n",
    "if binarySearch(lst, n):\n",
    "    print('found at',pos)\n",
    "else:\n",
    "    print('not found')"
   ]
  },
  {
   "cell_type": "markdown",
   "metadata": {},
   "source": [
    "## BinarySearch by taking user input"
   ]
  },
  {
   "cell_type": "code",
   "execution_count": 346,
   "metadata": {},
   "outputs": [
    {
     "name": "stdout",
     "output_type": "stream",
     "text": [
      "enter the size of an element5\n",
      "enter the element in the array1\n",
      "enter the element in the array6\n",
      "enter the element in the array7\n",
      "enter the element in the array8\n",
      "enter the element in the array4\n",
      "[1, 4, 6, 7, 8]\n",
      "enter the number you want to search7\n",
      "found at 3\n"
     ]
    }
   ],
   "source": [
    "arr = []\n",
    "n = int(input('enter the size of an element'))\n",
    "for i in range(n):\n",
    "    x = int(input('enter the element in the array'))\n",
    "    arr.append(x)\n",
    "lst=sorted(arr)\n",
    "print(lst)\n",
    "def binarySearch(lst, n):\n",
    "    l = 0\n",
    "    u = len(lst)\n",
    "    for i in range(u):\n",
    "        if l <= i:\n",
    "            mid = (l + u) // 2\n",
    "            if lst[mid] == n:\n",
    "                globals()['pos'] = mid\n",
    "                return True\n",
    "            else:\n",
    "                if lst[mid] < n:\n",
    "                    l = mid + 1\n",
    "                else:\n",
    "                    u = mid - 1\n",
    "    return False\n",
    "n= int(input('enter the number you want to search'))\n",
    "if binarySearch(lst,n):\n",
    "    print('found at',pos)\n",
    "else:\n",
    "    print('not found')"
   ]
  },
  {
   "cell_type": "markdown",
   "metadata": {},
   "source": [
    "## armstrong numbers "
   ]
  },
  {
   "cell_type": "code",
   "execution_count": 350,
   "metadata": {},
   "outputs": [
    {
     "name": "stdout",
     "output_type": "stream",
     "text": [
      "153\n",
      "370\n",
      "371\n",
      "407\n"
     ]
    }
   ],
   "source": [
    "def armstrong(n):\n",
    "    for i in range(n):\n",
    "        num = i\n",
    "        result = 0\n",
    "        l = len(str(i))\n",
    "        while i!=0:\n",
    "            digit = i % 10\n",
    "            result = result + digit ** l\n",
    "            i = i // 10\n",
    "        if num == result:\n",
    "            if num < 10:\n",
    "                continue\n",
    "            print(num)\n",
    "armstrong(1000)"
   ]
  },
  {
   "cell_type": "markdown",
   "metadata": {},
   "source": [
    "## Factorial using recursion "
   ]
  },
  {
   "cell_type": "code",
   "execution_count": 351,
   "metadata": {},
   "outputs": [
    {
     "data": {
      "text/plain": [
       "120"
      ]
     },
     "execution_count": 351,
     "metadata": {},
     "output_type": "execute_result"
    }
   ],
   "source": [
    "def fact(n):\n",
    "    if n==0:\n",
    "        return 1\n",
    "    else:\n",
    "        return n * fact(n-1)\n",
    "fact(5)"
   ]
  },
  {
   "cell_type": "markdown",
   "metadata": {},
   "source": [
    "## Factorial using loop"
   ]
  },
  {
   "cell_type": "code",
   "execution_count": 145,
   "metadata": {},
   "outputs": [
    {
     "data": {
      "text/plain": [
       "120"
      ]
     },
     "execution_count": 145,
     "metadata": {},
     "output_type": "execute_result"
    }
   ],
   "source": [
    "def fact(n):\n",
    "    k = 1\n",
    "    for i in range(2,n+1):\n",
    "        k = k * i\n",
    "    return k\n",
    "fact(5)"
   ]
  },
  {
   "cell_type": "markdown",
   "metadata": {},
   "source": [
    "# Fibonacci Series"
   ]
  },
  {
   "cell_type": "code",
   "execution_count": 146,
   "metadata": {},
   "outputs": [
    {
     "name": "stdout",
     "output_type": "stream",
     "text": [
      "0\n",
      "1\n",
      "1\n",
      "2\n",
      "3\n",
      "5\n",
      "8\n",
      "13\n",
      "21\n",
      "34\n",
      "55\n",
      "89\n"
     ]
    }
   ],
   "source": [
    "def fib(n):\n",
    "    a=0\n",
    "    b=1\n",
    "    if n==1:\n",
    "        print(a)\n",
    "    else:\n",
    "        print(a)\n",
    "        print(b)\n",
    "        for i in range(2,n):\n",
    "            c = a+b\n",
    "            a = b\n",
    "            b = c\n",
    "            if c >100:\n",
    "                break\n",
    "            print(c)\n",
    "fib(15)\n",
    "            "
   ]
  },
  {
   "cell_type": "markdown",
   "metadata": {},
   "source": [
    "## Fibonacci Series Using recursion"
   ]
  },
  {
   "cell_type": "code",
   "execution_count": 369,
   "metadata": {},
   "outputs": [
    {
     "name": "stdout",
     "output_type": "stream",
     "text": [
      "0\n",
      "1\n",
      "1\n",
      "2\n",
      "3\n",
      "5\n",
      "8\n",
      "13\n",
      "21\n",
      "34\n"
     ]
    }
   ],
   "source": [
    "def fib(n):\n",
    "    if n <= 1:\n",
    "        return n\n",
    "    return fib(n-1) + fib(n-2)\n",
    "for i in range(10):\n",
    "    print(fib(i))"
   ]
  },
  {
   "cell_type": "code",
   "execution_count": 147,
   "metadata": {},
   "outputs": [
    {
     "name": "stdout",
     "output_type": "stream",
     "text": [
      "11\n",
      "13\n",
      "17\n",
      "19\n",
      "23\n",
      "29\n"
     ]
    }
   ],
   "source": [
    "def prime(l,u):\n",
    "    for n in range(l,u+1):\n",
    "        for i in range(2,n):\n",
    "            if n % i == 0:\n",
    "                break\n",
    "        else:\n",
    "            print(n)\n",
    "\n",
    "prime(10,30)"
   ]
  },
  {
   "cell_type": "markdown",
   "metadata": {},
   "source": [
    "## Finding Prime"
   ]
  },
  {
   "cell_type": "code",
   "execution_count": 148,
   "metadata": {},
   "outputs": [
    {
     "name": "stdout",
     "output_type": "stream",
     "text": [
      "not prime\n"
     ]
    }
   ],
   "source": [
    "def prime(n):\n",
    "    for i in range(2,n):\n",
    "        if n%i==0:\n",
    "            print('not prime')\n",
    "            break\n",
    "    else:\n",
    "        print('prime')\n",
    "prime(30)"
   ]
  },
  {
   "cell_type": "markdown",
   "metadata": {},
   "source": [
    "## PerfectNumbers"
   ]
  },
  {
   "cell_type": "code",
   "execution_count": 394,
   "metadata": {},
   "outputs": [
    {
     "name": "stdout",
     "output_type": "stream",
     "text": [
      "perfect\n"
     ]
    }
   ],
   "source": [
    "def perfect(n):\n",
    "    result = 0\n",
    "    for i in range(1,n):\n",
    "        if n%i==0:\n",
    "            result += i\n",
    "    if result == n:\n",
    "        print('perfect')\n",
    "    else:\n",
    "        print('not perfect')\n",
    "perfect(6)"
   ]
  },
  {
   "cell_type": "code",
   "execution_count": 149,
   "metadata": {},
   "outputs": [
    {
     "name": "stdout",
     "output_type": "stream",
     "text": [
      "6\n",
      "28\n",
      "496\n"
     ]
    }
   ],
   "source": [
    "def perfect(l,u):\n",
    "    for n in range(l,u+1):\n",
    "        result = 0\n",
    "        for i in range(1,n):\n",
    "            if n%i==0:\n",
    "                result += i\n",
    "        if result == n:         \n",
    "            print(n)\n",
    "perfect(1,1000)"
   ]
  },
  {
   "cell_type": "markdown",
   "metadata": {},
   "source": [
    "## reversing the string"
   ]
  },
  {
   "cell_type": "code",
   "execution_count": 399,
   "metadata": {},
   "outputs": [
    {
     "name": "stdout",
     "output_type": "stream",
     "text": [
      "anhsirkias\n"
     ]
    }
   ],
   "source": [
    "a = 'saikrishna'\n",
    "print(a[::-1])     "
   ]
  },
  {
   "cell_type": "code",
   "execution_count": 150,
   "metadata": {},
   "outputs": [
    {
     "data": {
      "text/plain": [
       "'anhsirkias'"
      ]
     },
     "execution_count": 150,
     "metadata": {},
     "output_type": "execute_result"
    }
   ],
   "source": [
    "def reverse(str):\n",
    "    rev = ''\n",
    "    for i in str:\n",
    "        rev = i + rev\n",
    "    return rev\n",
    "reverse('saikrishna')"
   ]
  },
  {
   "cell_type": "markdown",
   "metadata": {},
   "source": [
    "## Compute GCD "
   ]
  },
  {
   "cell_type": "code",
   "execution_count": 151,
   "metadata": {},
   "outputs": [
    {
     "data": {
      "text/plain": [
       "2"
      ]
     },
     "execution_count": 151,
     "metadata": {},
     "output_type": "execute_result"
    }
   ],
   "source": [
    "def computeGcd(a,b):\n",
    "    if b==0:\n",
    "        return a\n",
    "    return computeGcd(b, a%b)\n",
    "computeGcd(10,12)"
   ]
  },
  {
   "cell_type": "markdown",
   "metadata": {},
   "source": [
    "## Sum of digits of positive number"
   ]
  },
  {
   "cell_type": "code",
   "execution_count": 152,
   "metadata": {},
   "outputs": [
    {
     "data": {
      "text/plain": [
       "10"
      ]
     },
     "execution_count": 152,
     "metadata": {},
     "output_type": "execute_result"
    }
   ],
   "source": [
    "def add_digits(num):\n",
    "    result = 0\n",
    "    while num > 0:\n",
    "        digit = num % 10             #1234%10  == 4\n",
    "        result = result + digit      #4+\n",
    "        num = num // 10              #1234//10 == 123\n",
    "    return result\n",
    "add_digits(1234)"
   ]
  },
  {
   "cell_type": "markdown",
   "metadata": {},
   "source": [
    "## Palindrome"
   ]
  },
  {
   "cell_type": "code",
   "execution_count": 436,
   "metadata": {},
   "outputs": [
    {
     "name": "stdout",
     "output_type": "stream",
     "text": [
      "palindrome\n"
     ]
    }
   ],
   "source": [
    "def palindrome(str):\n",
    "    rev = str[::-1]\n",
    "    if str == rev:\n",
    "        print('palindrome')\n",
    "    else:\n",
    "        print('not palindrome')\n",
    "palindrome('madam')"
   ]
  },
  {
   "cell_type": "code",
   "execution_count": 153,
   "metadata": {},
   "outputs": [
    {
     "name": "stdout",
     "output_type": "stream",
     "text": [
      "11\n",
      "101\n",
      "131\n",
      "151\n",
      "181\n",
      "191\n",
      "313\n",
      "353\n",
      "373\n",
      "383\n",
      "727\n",
      "757\n",
      "787\n",
      "797\n",
      "919\n",
      "929\n"
     ]
    }
   ],
   "source": [
    "def palindromic_prime(l,u):\n",
    "    for n in range(l,u+1):\n",
    "        rev = int(str(n)[::-1])\n",
    "        if n == rev:\n",
    "            for i in range(2, n):\n",
    "                if n%i==0:\n",
    "                    break\n",
    "            else:\n",
    "                print(n)\n",
    "palindromic_prime(10,1000)"
   ]
  },
  {
   "cell_type": "markdown",
   "metadata": {},
   "source": [
    "## Count Vowels"
   ]
  },
  {
   "cell_type": "code",
   "execution_count": 154,
   "metadata": {},
   "outputs": [
    {
     "data": {
      "text/plain": [
       "4"
      ]
     },
     "execution_count": 154,
     "metadata": {},
     "output_type": "execute_result"
    }
   ],
   "source": [
    "def count_vowels(str):\n",
    "    count = 0\n",
    "    vowels = ['a','e','i','o','u']\n",
    "    for i in str:\n",
    "        if i in vowels:\n",
    "            count += 1\n",
    "    return count\n",
    "count_vowels('saikrishna')"
   ]
  },
  {
   "cell_type": "markdown",
   "metadata": {},
   "source": [
    "## Anagram"
   ]
  },
  {
   "cell_type": "code",
   "execution_count": 155,
   "metadata": {},
   "outputs": [
    {
     "name": "stdout",
     "output_type": "stream",
     "text": [
      "enter the string1heart\n",
      "enter the string2earth\n",
      "anagram\n"
     ]
    }
   ],
   "source": [
    "str1 = input('enter the string1')\n",
    "str2 = input('enter the string2')\n",
    "sorted_str1 = sorted(str1)\n",
    "sorted_str2 = sorted(str2)\n",
    "if sorted_str1 ==  sorted_str2:\n",
    "    print('anagram')\n",
    "else:\n",
    "    print('not anagram')\n",
    "    "
   ]
  },
  {
   "cell_type": "markdown",
   "metadata": {},
   "source": [
    "## Valid date program"
   ]
  },
  {
   "cell_type": "code",
   "execution_count": 464,
   "metadata": {},
   "outputs": [
    {
     "name": "stdout",
     "output_type": "stream",
     "text": [
      "enter the day15\n",
      "enter the month11\n",
      "enter the year1995\n",
      "entered data is valid\n"
     ]
    }
   ],
   "source": [
    "def find_valid_date(day,month,year):\n",
    "    if month==1 or month==3 or month==5 or month==7 or month==8 or month==10 or month==12:\n",
    "        max_days = 31\n",
    "    elif month==2 or month==4 or month==6 or month==9 or month==11:\n",
    "        max_days = 30\n",
    "    elif year % 4==0 and year % 100 != 0 or year % 400 ==0:\n",
    "        max_days = 29\n",
    "    else:\n",
    "        max_days = 28\n",
    "\n",
    "    if month < 1 or month > 12:\n",
    "        print('invalid month ')\n",
    "    elif day < 1 or day >max_days:\n",
    "        print('invalid date')\n",
    "    else:\n",
    "        print('entered data is valid')\n",
    "    \n",
    "day = int(input('enter the day'))\n",
    "month = int(input('enter the month'))\n",
    "year = int(input('enter the year'))\n",
    "find_valid_date(day,month,year)"
   ]
  },
  {
   "cell_type": "code",
   "execution_count": 477,
   "metadata": {},
   "outputs": [
    {
     "name": "stdout",
     "output_type": "stream",
     "text": [
      "enter the date in dd/mm/yyyy format21/02/2012\n",
      "21/02/2012 is palindrome\n"
     ]
    }
   ],
   "source": [
    "def palindromic_date(date):\n",
    "    date = input('enter the date in dd/mm/yyyy format')\n",
    "    given_date = date.replace('/','')\n",
    "    reversed_date = given_date[::-1]\n",
    "    if given_date == reversed_date:\n",
    "        print(date ,'is palindrome')\n",
    "    else:\n",
    "        print(date,'is not palindrome')\n",
    "palindromic_date(date)\n"
   ]
  },
  {
   "cell_type": "code",
   "execution_count": 484,
   "metadata": {},
   "outputs": [
    {
     "name": "stdout",
     "output_type": "stream",
     "text": [
      "enter the day21\n",
      "enter the month02\n",
      "enter the year2012\n",
      "valid date\n",
      "palindrome\n"
     ]
    }
   ],
   "source": [
    "def find_valid_palindrome_date(day,month,year):\n",
    "    \n",
    "    if month==1 or month==3 or month==5 or month==7 or month==8 or month==10 or month==12:\n",
    "        max_days = 31\n",
    "    elif month==4 or month==6 or month==9 or month==11:\n",
    "        max_days = 30\n",
    "    elif year%4==0 and year%100!=0 or year%400==0:\n",
    "        max_days = 29\n",
    "    else:\n",
    "        max_days = 28\n",
    "    if month < 1 or month > 12:\n",
    "        print('invalid month')\n",
    "    elif day < 1 or day > max_days:\n",
    "        print('invalid day')\n",
    "    else:\n",
    "        print('valid date')\n",
    "        mm = str(month)\n",
    "        dd = str(day)\n",
    "        yyyy = str(year)\n",
    "        \n",
    "        if month < 10:\n",
    "            mm ='0'+mm\n",
    "        if day < 10:\n",
    "            dd = '0'+dd\n",
    "        given_date = dd+mm+yyyy\n",
    "        reversed_date = given_date[::-1]\n",
    "        if given_date == reversed_date:\n",
    "            print('palindrome')\n",
    "        else:\n",
    "            print('not palindrome')\n",
    "\n",
    "day = int(input('enter the day'))\n",
    "month = int(input('enter the month'))\n",
    "year = int(input('enter the year'))\n",
    "find_valid_palindrome_date(day,month,year)  \n",
    "    "
   ]
  },
  {
   "cell_type": "code",
   "execution_count": 5,
   "metadata": {},
   "outputs": [
    {
     "name": "stdout",
     "output_type": "stream",
     "text": [
      "day21\n",
      "month02\n",
      "year2012\n",
      "entered date is valid\n",
      "palindrome\n"
     ]
    }
   ],
   "source": [
    "def find_date_palindrome(day,month,year):\n",
    "    if month==1 or month==3 or month==5 or month==7 or month==8 or month==10 or month==12:\n",
    "        max_days = 31\n",
    "    elif month==4 or month==6 or month==9 or month==11:\n",
    "        max_days = 30\n",
    "    elif year%4==0 or year%100!=0 or year%400==0:\n",
    "        max_days = 29\n",
    "    else:\n",
    "        max_days = 28\n",
    "    if month < 1 or month > 12:\n",
    "        print('invalid month')\n",
    "    elif day < 1 or day > max_days:\n",
    "        print('invalid day')\n",
    "    else:\n",
    "        print('entered date is valid')\n",
    "        dd = str(day)\n",
    "        mm = str(month)\n",
    "        yyyy = str(year)\n",
    "        if month < 10:\n",
    "            mm = '0'+mm\n",
    "        if day < 10:\n",
    "            dd = '0'+dd\n",
    "        given_date = dd+mm+yyyy\n",
    "        rev = given_date[::-1]\n",
    "        if given_date == rev:\n",
    "            print('palindrome')\n",
    "        else:\n",
    "            print('not palindrome')\n",
    "day = int(input('day'))\n",
    "month = int(input('month'))\n",
    "year = int(input('year'))\n",
    "find_date_palindrome(day,month,year)\n"
   ]
  },
  {
   "cell_type": "code",
   "execution_count": 7,
   "metadata": {},
   "outputs": [
    {
     "name": "stdout",
     "output_type": "stream",
     "text": [
      "month1\n",
      "day10\n",
      "year2011\n",
      "entered date is valid\n",
      "palindrome\n"
     ]
    }
   ],
   "source": [
    "def find_date_palindrome(day,month,year):\n",
    "    if month==1 or month==3 or month==5 or month==7 or month==8 or month==10 or month==12:\n",
    "        max_days = 31\n",
    "    elif month==4 or month==6 or month==9 or month==11:\n",
    "        max_days = 30\n",
    "    elif year%4==0 or year%100!=0 or year%400==0:\n",
    "        max_days = 29\n",
    "    else:\n",
    "        max_days = 28\n",
    "    if month < 1 or month > 12:\n",
    "        print('invalid month')\n",
    "    elif day < 1 or day > max_days:\n",
    "        print('invalid day')\n",
    "    else:\n",
    "        print('entered date is valid')\n",
    "        dd = str(day)\n",
    "        mm = str(month)\n",
    "        yyyy = str(year)\n",
    "        given_date = mm+dd+yyyy\n",
    "        rev = given_date[::-1]\n",
    "        if given_date == rev:\n",
    "            print('palindrome')\n",
    "        else:\n",
    "            print('not palindrome')\n",
    "month = int(input('month'))\n",
    "day = int(input('day'))\n",
    "year = int(input('year'))\n",
    "find_date_palindrome(day,month,year)\n"
   ]
  },
  {
   "cell_type": "code",
   "execution_count": 57,
   "metadata": {},
   "outputs": [
    {
     "name": "stdout",
     "output_type": "stream",
     "text": [
      "enter the day23\n",
      "enter the month02\n",
      "enter the year2012\n",
      "next palindrome is 2 / 2 / 2020\n"
     ]
    }
   ],
   "source": [
    "count = 0\n",
    "def find_nextDate_palindrome(day,month,year):\n",
    "    if month==1 or month==3 or month==5 or month==7 or month==8 or month==10 or month==12:\n",
    "        max_day = 31\n",
    "    elif month==4 or month==6 or month==9 or month==11:\n",
    "        max_day = 30\n",
    "    elif year%4==0 and year%100 !=0 or year%400==0:\n",
    "        max_day = 29\n",
    "    else:\n",
    "        max_day = 28\n",
    "    return max_day\n",
    "\n",
    "day = int(input('enter the day'))\n",
    "month = int(input('enter the month'))\n",
    "year = int(input('enter the year'))\n",
    "while True:\n",
    "    max_days = find_nextDate_palindrome(day,month,year)\n",
    "    if (day>0 and day<=max_days) and (month>0 and month<13):\n",
    "        \n",
    "    \n",
    "        dd = str(day)\n",
    "        mm = str(month)\n",
    "        yyyy= str(year)\n",
    "        if month < 10:\n",
    "            mm = '0'+mm\n",
    "        if day < 10:\n",
    "            dd = '0'+dd\n",
    "        given_date = dd+mm+yyyy\n",
    "        reversed_date = given_date[::-1]\n",
    "        if given_date == reversed_date:\n",
    "            if count == 0:\n",
    "                print(date,'/',month,'/',year,'/','day is palindrome')\n",
    "            else:\n",
    "                print('next palindrome is',day,'/',month,'/',year)\n",
    "            break\n",
    "        else:\n",
    "            day += 1\n",
    "            if day > max_days:\n",
    "                day = 1\n",
    "                month += 1\n",
    "                if month > 12:\n",
    "                    month = 1\n",
    "                    year += 1\n",
    "            count += 1\n",
    "    else:\n",
    "        print('invalid date')\n",
    "        break\n",
    "    "
   ]
  },
  {
   "cell_type": "code",
   "execution_count": 83,
   "metadata": {},
   "outputs": [
    {
     "name": "stdout",
     "output_type": "stream",
     "text": [
      "enter the year2012\n",
      "21 / 2 / 2012\n"
     ]
    }
   ],
   "source": [
    "def find_all_palindrome_days(day,month,year):\n",
    "    if month==1 or month==3 or month==5 or month==7 or month==8 or month==10 or month==12:\n",
    "        max_day = 31\n",
    "    elif month==4 or month==6 or month==9 or month==11:\n",
    "        max_day = 30\n",
    "    elif year%4==0 and year%100!=0 or year%400==0:\n",
    "        max_day = 29\n",
    "    else:\n",
    "        max_day = 28\n",
    "    return max_day\n",
    "year = int(input('enter the year'))\n",
    "for month in range(1,13):\n",
    "    max_days = find_all_palindrome_days(day,month,year)\n",
    "    for day in range(1,max_days+1):\n",
    "        dd = str(day)\n",
    "        mm = str(month)\n",
    "        yyyy = str(year)\n",
    "        if month < 10:\n",
    "            mm = '0'+mm\n",
    "        if day < 10:\n",
    "            dd = '0'+dd\n",
    "        given_date = dd+mm+yyyy\n",
    "        reversed_date = given_date[::-1]\n",
    "        if given_date == reversed_date:\n",
    "            print(day,'/',month,'/',year)"
   ]
  },
  {
   "cell_type": "code",
   "execution_count": 103,
   "metadata": {},
   "outputs": [
    {
     "name": "stdout",
     "output_type": "stream",
     "text": [
      "10 / 2 / 2001\n",
      "20 / 2 / 2002\n",
      "11 / 2 / 2011\n",
      "1 / 10 / 2011\n",
      "21 / 2 / 2012\n",
      "2 / 10 / 2012\n",
      "3 / 10 / 2013\n",
      "4 / 10 / 2014\n",
      "5 / 10 / 2015\n",
      "6 / 10 / 2016\n",
      "7 / 10 / 2017\n",
      "8 / 10 / 2018\n",
      "9 / 10 / 2019\n"
     ]
    }
   ],
   "source": [
    "def print_all_palindrome(day,month,year):\n",
    "    if month==1 or month==3 or month==5 or month==7 or month==8 or month==10 or month==12:\n",
    "        max_day = 31\n",
    "    elif month==4 or month==6 or month==9 or month==11:\n",
    "        max_day = 30\n",
    "    elif year%4==0 and year%100!=0 or year%400==0:\n",
    "        max_day = 29\n",
    "    else:\n",
    "        max_day = 28\n",
    "    return max_day\n",
    "for year in range(2000,2020):\n",
    "    for month in range(1,13):\n",
    "        max_days = print_all_palindrome(day,month,year)\n",
    "        for day in range(1,max_days+1):\n",
    "            dd = str(day)\n",
    "            mm = str(month)\n",
    "            yyyy = str(year)\n",
    "            if date < 10:\n",
    "                dd = '0'+dd\n",
    "            if month < 10:\n",
    "                mm = '0'+mm\n",
    "            given_date = dd + mm+ yyyy\n",
    "            reversed_date = given_date[::-1]\n",
    "            if given_date == reversed_date:\n",
    "                print(day,'/',month,'/',year)"
   ]
  },
  {
   "cell_type": "markdown",
   "metadata": {},
   "source": [
    "## Flames"
   ]
  },
  {
   "cell_type": "code",
   "execution_count": 129,
   "metadata": {},
   "outputs": [
    {
     "name": "stdout",
     "output_type": "stream",
     "text": [
      "enter the first namesaikris\n",
      "enter the second namesai\n",
      "saikris\n",
      "sai\n",
      "count is 4\n",
      "relationship is Enemies\n"
     ]
    }
   ],
   "source": [
    "name1 = input('enter the first name')\n",
    "name2 = input('enter the second name')\n",
    "name1 = name1.replace(' ','')\n",
    "name2 = name2.replace(' ','')\n",
    "print(name1)\n",
    "print(name2)\n",
    "for i in name1:\n",
    "    for j in name2:\n",
    "        if i==j:\n",
    "            name1 = name1.replace(i,'',1)\n",
    "            name2 = name2.replace(j,'',1)\n",
    "            break\n",
    "count = len(name1+name2)\n",
    "print('count is',count)\n",
    "\n",
    "if count > 0:\n",
    "    lst = ['Friend','Love','Affection','Marriage','Enemies','Sibilings']\n",
    "    while len(lst)>1:\n",
    "        c = count % len(lst)\n",
    "        s_index = c-1\n",
    "        if s_index >=0:\n",
    "            left = lst[:s_index]\n",
    "            right = lst[s_index+1:]\n",
    "            lst = right + left\n",
    "        else:\n",
    "            lst = lst[:len(lst)-1]\n",
    "    print('relationship is',lst[0])\n",
    "else:\n",
    "    print('provide valid name')"
   ]
  },
  {
   "cell_type": "markdown",
   "metadata": {},
   "source": [
    "## Matrix  Additon and Subtraction"
   ]
  },
  {
   "cell_type": "code",
   "execution_count": 133,
   "metadata": {},
   "outputs": [
    {
     "name": "stdout",
     "output_type": "stream",
     "text": [
      "enter the row number2\n",
      "enter the column number2\n",
      "enter the elements for matrix 1\n",
      "9\n",
      "8\n",
      "7\n",
      "6\n",
      "matrix 1\n",
      "9  8  \n",
      "7  6  \n",
      "enter the elements for matrix2\n",
      "5\n",
      "4\n",
      "2\n",
      "1\n",
      "matrix2\n",
      "5  4  \n",
      "2  1  \n",
      "result is\n",
      "4   4   \n",
      "5   5   \n"
     ]
    }
   ],
   "source": [
    "row = int(input('enter the row number'))\n",
    "col = int(input('enter the column number'))\n",
    "\n",
    "print('enter the elements for matrix 1')\n",
    "matrix1 = [[int(input()) for i in range(col)]for j in range(col)]\n",
    "print('matrix 1')\n",
    "for i in range(row):\n",
    "    for j in range(col):\n",
    "        print(format(matrix1[i][j],'<3'),end='')\n",
    "    print()\n",
    "\n",
    "print('enter the elements for matrix2')\n",
    "matrix2 = [[int(input())for i in range(col)]for j in range(col)]\n",
    "print('matrix2')\n",
    "for i in range(row):\n",
    "    for j in range(col):\n",
    "        print(format(matrix2[i][j],'<3'),end='')\n",
    "    print()\n",
    "    \n",
    "print('result is')\n",
    "result = [[0 for i in range(col)]for j in range(row)]\n",
    "for i in range(row):\n",
    "    for j in range(col):\n",
    "        result[i][j] = matrix1[i][j] - matrix2[i][j]\n",
    "\n",
    "for i in range(row):\n",
    "    for j in range(col):\n",
    "        print(format(result[i][j],'<3'),end=' ')\n",
    "    print()"
   ]
  },
  {
   "cell_type": "code",
   "execution_count": 138,
   "metadata": {},
   "outputs": [
    {
     "name": "stdout",
     "output_type": "stream",
     "text": [
      "enter the row number2\n",
      "enter the column number3\n",
      "enter the elements for matrix1\n",
      "1\n",
      "2\n",
      "3\n",
      "4\n",
      "5\n",
      "6\n",
      "matrix1\n",
      "1   2   3   \n",
      "4   5   6   \n",
      "enter the elements for matrix2\n",
      "1\n",
      "2\n",
      "3\n",
      "4\n",
      "5\n",
      "6\n",
      "matrix2\n",
      "1   2   3   \n",
      "4   5   6   \n",
      "\n",
      "\n",
      "result is\n",
      "2   4   6   \n",
      "8   10  12  \n"
     ]
    }
   ],
   "source": [
    "row = int(input('enter the row number'))\n",
    "col = int(input('enter the column number'))\n",
    "print('enter the elements for matrix1')\n",
    "matrix1 = [[int(input())for i in range(col)]for j in range(row)]\n",
    "print('matrix1')\n",
    "for i in range(row):\n",
    "    for j in range(col):\n",
    "        print(format(matrix1[i][j],'<3'),end=' ')\n",
    "    print()\n",
    "print('enter the elements for matrix2')\n",
    "matrix2 = [[int(input())for i in range(col)]for j in range(row)]\n",
    "print('matrix2')\n",
    "for i in range(row):\n",
    "    for j in range(col):\n",
    "        print(format(matrix2[i][j],'<3'),end=' ')\n",
    "    print()\n",
    "\n",
    "\n",
    "result = [[0 for i in range(col)]for j in range(row)]\n",
    "for i in range(row):\n",
    "    for j in range(col):\n",
    "        result[i][j] = matrix1[i][j] + matrix2[i][j]\n",
    "    print()\n",
    "print('result is')\n",
    "for i in range(len(matrix1)):\n",
    "    for j in range(len(matrix1[0])):\n",
    "        print(format(result[i][j],'<3'),end=' ')\n",
    "    print()"
   ]
  },
  {
   "cell_type": "markdown",
   "metadata": {},
   "source": [
    "## Matrix Multiplication"
   ]
  },
  {
   "cell_type": "code",
   "execution_count": 141,
   "metadata": {},
   "outputs": [
    {
     "name": "stdout",
     "output_type": "stream",
     "text": [
      "enter the row number for matrix12\n",
      "enter the column number for matirx23\n",
      "enter the column number for matrix1/row number for matrix22\n",
      "enter the elements for matrix1\n",
      "1\n",
      "2\n",
      "3\n",
      "4\n",
      "matrix 1\n",
      "  1  2\n",
      "  3  4\n",
      "enter the elements for matrix2\n",
      "1\n",
      "2\n",
      "3\n",
      "4\n",
      "5\n",
      "6\n",
      "matrix 2\n",
      "1   2   3   \n",
      "4   5   6   \n",
      "\n",
      "\n",
      "result is\n",
      "9   12  15  \n",
      "19  26  33  \n"
     ]
    }
   ],
   "source": [
    "# no of columns in matrix1 = p*n\n",
    "## no of rows in matrix2 = n*q\n",
    "## p*n  == n*q\n",
    "## result = p*q\n",
    "\n",
    "p = int(input('enter the row number for matrix1'))\n",
    "q = int(input('enter the column number for matirx2'))\n",
    "n = int(input('enter the column number for matrix1/row number for matrix2'))\n",
    "\n",
    "print('enter the elements for matrix1')\n",
    "matrix1 = [[int(input())for i in range(n)]for j in range(p)]\n",
    "print('matrix 1')\n",
    "for i in range(p):\n",
    "    for j in range(n):\n",
    "        print(format(matrix1[i][j],'3'),end='')\n",
    "    print()\n",
    "\n",
    "print('enter the elements for matrix2')\n",
    "matrix2 = [[int(input())for i in range(q)]for j in range(n)]\n",
    "print('matrix 2')\n",
    "for i in range(n):\n",
    "    for j in range(q):\n",
    "        print(format(matrix2[i][j],'<3'),end=' ')\n",
    "    print()\n",
    "\n",
    "result = [[0 for i in range(q)]for j in range(p)]\n",
    "for i in range(p):\n",
    "    for j in range(q):\n",
    "        for k in range(n):\n",
    "            result[i][j] = result[i][j] + matrix1[i][k] * matrix2[k][j]\n",
    "    print()\n",
    "print('result is')\n",
    "for i in range(p):\n",
    "    for j in range(q):\n",
    "        print(format(result[i][j],'<3'),end=' ')\n",
    "    print()"
   ]
  }
 ],
 "metadata": {
  "kernelspec": {
   "display_name": "Python 3",
   "language": "python",
   "name": "python3"
  },
  "language_info": {
   "codemirror_mode": {
    "name": "ipython",
    "version": 3
   },
   "file_extension": ".py",
   "mimetype": "text/x-python",
   "name": "python",
   "nbconvert_exporter": "python",
   "pygments_lexer": "ipython3",
   "version": "3.7.4"
  }
 },
 "nbformat": 4,
 "nbformat_minor": 2
}
